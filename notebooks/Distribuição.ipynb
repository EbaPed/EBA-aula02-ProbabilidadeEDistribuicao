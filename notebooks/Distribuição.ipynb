{
  "cells": [
    {
      "cell_type": "code",
      "execution_count": 1,
      "metadata": {
        "id": "789JeEZMQuQE"
      },
      "outputs": [],
      "source": [
        "from scipy.stats import binom, norm\n",
        "import math\n",
        "import pandas as pd\n",
        "import seaborn as sns\n",
        "import numpy as np"
      ]
    },
    {
      "cell_type": "markdown",
      "metadata": {
        "id": "h3eqGA4hSQBY"
      },
      "source": [
        "# Binomial"
      ]
    },
    {
      "cell_type": "markdown",
      "metadata": {
        "id": "gQdmVLMBSPBX"
      },
      "source": [
        "- Suponha que na minha loja 10% de todos os pedidos são devolvidos a cada semana. Se houver alta probabilidade de ter 3 ou mais devoluções por semana, precisamos contratar um assistente temporário. Suponha que naquela semana a loja realizou 50 vendas em 1 semana. Qual é a probabilidade de ter que contratar um assistente temporário?\n",
        "X  = quantidade de devolução\n",
        "n = 50 compras\n",
        "p = probabilidade de devolução = 10%\n",
        "q = probabilidade de não devolução = 1 - 10% = 90%\n"
      ]
    },
    {
      "cell_type": "code",
      "execution_count": 2,
      "metadata": {
        "colab": {
          "base_uri": "https://localhost:8080/"
        },
        "id": "By_p2HcEQ2fY",
        "outputId": "bb2ee5e5-54c3-4dd3-ab84-8def62577e59"
      },
      "outputs": [
        {
          "data": {
            "text/plain": [
              "np.float64(0.7497060940466918)"
            ]
          },
          "execution_count": 2,
          "metadata": {},
          "output_type": "execute_result"
        }
      ],
      "source": [
        "# p = probabilidade de sucesso\n",
        "# n = quantidade de tentativas\n",
        "# k = quantidade de sucesso\n",
        "\n",
        "n = 50\n",
        "p = 0.1\n",
        "k = 3\n",
        "\n",
        "# binom.cdf(k, n, p) calcula a probabilidade de até k sucessos (inclui o valor 0,1,2,3 para k, portanto, não é o queremos!), logo queremos a diferença entre 1 (100%) e este valor:\n",
        "\n",
        "1-binom.cdf(k, n, p)"
      ]
    },
    {
      "cell_type": "code",
      "execution_count": 3,
      "metadata": {
        "colab": {
          "base_uri": "https://localhost:8080/"
        },
        "id": "z6xliCEHRvNx",
        "outputId": "7fd851a9-359a-49cb-a754-98fcc6a63049"
      },
      "outputs": [
        {
          "data": {
            "text/plain": [
              "np.float64(0.8882712436536526)"
            ]
          },
          "execution_count": 3,
          "metadata": {},
          "output_type": "execute_result"
        }
      ],
      "source": [
        "n = 50\n",
        "p = 0.1\n",
        "k = 2\n",
        "\n",
        "1-binom.cdf(k, n, p) #inclui o valor 0,1,2 para k"
      ]
    },
    {
      "cell_type": "markdown",
      "metadata": {
        "id": "s5RsPc04pIk2"
      },
      "source": [
        "# Normal"
      ]
    },
    {
      "cell_type": "markdown",
      "metadata": {
        "id": "wrhRkb8EpkgY"
      },
      "source": [
        "- Considerando que temos uma distribuição normal e que nosso x = 20. Quantos dados estão abaixo de x = 20? Suponha que a distribuição tem média = 15 e desvio-padrão = 8,9\n",
        "\n",
        "Lembre-se que Para determinar quantos dados estão abaixo de\n",
        "x=20 em uma distribuição normal com média μ=15 e desvio-padrão σ=8.9, precisamos calcular a área sob a curva da distribuição normal até\n",
        "x=20. Isso corresponde a encontrar a probabilidade acumulada até x=20.\n",
        "\n",
        "Z = (20-15)/8,9 = 0,56"
      ]
    },
    {
      "cell_type": "code",
      "execution_count": 4,
      "metadata": {
        "colab": {
          "base_uri": "https://localhost:8080/"
        },
        "id": "ik0-_7Ugg6N9",
        "outputId": "944df8a1-5d67-4611-ddd8-32b6f3fdd486"
      },
      "outputs": [
        {
          "data": {
            "text/plain": [
              "np.float64(0.7128730883243167)"
            ]
          },
          "execution_count": 4,
          "metadata": {},
          "output_type": "execute_result"
        }
      ],
      "source": [
        "Z = (20-15)/8.9\n",
        "norm.cdf(Z)"
      ]
    },
    {
      "cell_type": "markdown",
      "metadata": {
        "id": "u_YUlpZ5pFUL"
      },
      "source": [
        "Portanto, aproximadamente 71.28% dos dados estão abaixo de x=20 em uma distribuição normal com média 15 e desvio-padrão 8.9."
      ]
    },
    {
      "cell_type": "markdown",
      "metadata": {
        "id": "iC64zaoFp-fJ"
      },
      "source": [
        "- Uma pesquisa indica que, para cada ida ao supermercado, um consumidor permanece na loja em média 45 minutos, com desvio padrão de 12 minutos. A duração dos tempos gastos na loja é normalmente distribuída, e representada pela variável x. Um consumidor entra na loja.\n",
        "\n",
        "(a) Calcule a probabilidade de que ele ficará na loja, para cada intervalo de tempo listado a seguir.\n",
        "- 24 min;\n",
        "- 54 min;\n",
        "\n",
        "(b) Interprete sua resposta quando 200 consumidores entrarem na loja. Quantos consumidores você esperaria que estivessem na loja para cada intervalo de tempo listado a seguir?\n",
        "- entre 24 e 54 minutos\n",
        "- mais de 39 minutos"
      ]
    },
    {
      "cell_type": "code",
      "execution_count": 5,
      "metadata": {
        "id": "JWYuur7Pp05j"
      },
      "outputs": [],
      "source": [
        "# calculamos o z-score para cada tempo solicitado\n",
        "z1 = (24-45)/12\n",
        "z2 = (54-45)/12"
      ]
    },
    {
      "cell_type": "code",
      "execution_count": 6,
      "metadata": {
        "colab": {
          "base_uri": "https://localhost:8080/"
        },
        "id": "XAErBNRWqLRg",
        "outputId": "711329ce-6216-4b9a-98ab-b0d996fc62e3"
      },
      "outputs": [
        {
          "name": "stdout",
          "output_type": "stream",
          "text": [
            "0.7733726476231317 0.040059156863817086\n"
          ]
        }
      ],
      "source": [
        "# determinamos probabilidade acumulada de uma variável aleatória seguir uma distribuição normal padrão até o valor de Z dado\n",
        "P54 = norm.cdf(z2)\n",
        "P24 = norm.cdf(z1)\n",
        "print(P54, P24)"
      ]
    },
    {
      "cell_type": "code",
      "execution_count": 7,
      "metadata": {
        "colab": {
          "base_uri": "https://localhost:8080/"
        },
        "id": "I5jxT-V9qitP",
        "outputId": "2785dd6a-57f8-40c5-90e8-ccaa79e26b5b"
      },
      "outputs": [
        {
          "data": {
            "text/plain": [
              "np.float64(0.7333134907593146)"
            ]
          },
          "execution_count": 7,
          "metadata": {},
          "output_type": "execute_result"
        }
      ],
      "source": [
        "# Subtraímos a probabilidade acumulada de 24 minutos da probabilidade acumulada de 54 minutos para obter a probabilidade de um consumidor ficar entre 24 e 54 minutos na loja.\n",
        "\n",
        "P54 - P24"
      ]
    },
    {
      "cell_type": "markdown",
      "metadata": {
        "id": "X_vEC1xzsElR"
      },
      "source": [
        "A diferença\n",
        "𝑃\n",
        "54\n",
        "−\n",
        "𝑃\n",
        "24\n",
        "nos dá a probabilidade de um consumidor ficar na loja entre 24 e 54 minutos.\n",
        "Multiplicando essa diferença pelo número de consumidores (200), obtemos o número esperado de consumidores nesse intervalo de tempo quando 200 consumidores entrarem na loja."
      ]
    },
    {
      "cell_type": "code",
      "execution_count": 8,
      "metadata": {
        "colab": {
          "base_uri": "https://localhost:8080/"
        },
        "id": "IvO9SMklqlmd",
        "outputId": "b9656615-292a-4c75-f93e-e86619db186f"
      },
      "outputs": [
        {
          "data": {
            "text/plain": [
              "np.float64(146.6626981518629)"
            ]
          },
          "execution_count": 8,
          "metadata": {},
          "output_type": "execute_result"
        }
      ],
      "source": [
        "(P54 - P24)*200"
      ]
    },
    {
      "cell_type": "code",
      "execution_count": 9,
      "metadata": {
        "id": "d4r2MYGwqryP"
      },
      "outputs": [],
      "source": [
        "#usamos o mesmo raciocinio para o caso de ficarem mais de 39 minutos\n",
        "\n",
        "z3 = (39-45)/12"
      ]
    },
    {
      "cell_type": "code",
      "execution_count": 10,
      "metadata": {
        "colab": {
          "base_uri": "https://localhost:8080/"
        },
        "id": "paaTVnkpqzyt",
        "outputId": "aaea1aa0-7c3d-4bdb-9277-73918d31268f"
      },
      "outputs": [
        {
          "data": {
            "text/plain": [
              "np.float64(0.3085375387259869)"
            ]
          },
          "execution_count": 10,
          "metadata": {},
          "output_type": "execute_result"
        }
      ],
      "source": [
        "P39 = norm.cdf(z3)\n",
        "P39"
      ]
    },
    {
      "cell_type": "code",
      "execution_count": 11,
      "metadata": {
        "colab": {
          "base_uri": "https://localhost:8080/"
        },
        "id": "f2trstldq7tk",
        "outputId": "b00fcf69-9c01-4f38-ab4e-e31307163935"
      },
      "outputs": [
        {
          "data": {
            "text/plain": [
              "np.float64(0.6914624612740131)"
            ]
          },
          "execution_count": 11,
          "metadata": {},
          "output_type": "execute_result"
        }
      ],
      "source": [
        "1-P39"
      ]
    },
    {
      "cell_type": "code",
      "execution_count": 12,
      "metadata": {
        "colab": {
          "base_uri": "https://localhost:8080/"
        },
        "id": "evDXRgoErD33",
        "outputId": "c4b96b72-c00d-45d9-fdf6-f14b543c06bc"
      },
      "outputs": [
        {
          "data": {
            "text/plain": [
              "np.float64(138.29249225480262)"
            ]
          },
          "execution_count": 12,
          "metadata": {},
          "output_type": "execute_result"
        }
      ],
      "source": [
        "(1-P39)*200"
      ]
    },
    {
      "cell_type": "markdown",
      "metadata": {
        "id": "TyjW0vKsrOnG"
      },
      "source": [
        "Vamos supor que temos uma distribuição de forma não conhecida e idade de casamento entre as pessoas. Na média, sabemos que em média a idade de casamento para as mulheres é 25 anos e para os homens é de 27.8. O desvio-padrão é de 4 anos. Qual é a probabilidade de selecionarmos 32 mulheres aleatoriamente e elas terem uma média de idade entre 26 a 27 anos?\n",
        "Lembrem-se que z mede a probabilidade acumulada à esquerda (P z<zc), e, nesse caso, queremos uma área no meio\n",
        "Lembrando que as novas médias e desvio-padrão são: Média = 25 e desvio = 4/√32\n"
      ]
    },
    {
      "cell_type": "code",
      "execution_count": 13,
      "metadata": {
        "colab": {
          "base_uri": "https://localhost:8080/"
        },
        "id": "hQupzNmtrIAJ",
        "outputId": "94e2edfc-8365-4abb-c027-30947fe00ab2"
      },
      "outputs": [
        {
          "name": "stdout",
          "output_type": "stream",
          "text": [
            "2.8284271247461903 1.4142135623730951\n"
          ]
        }
      ],
      "source": [
        "#Para calcular a probabilidade de uma média de idade entre 26 e 27 anos, precisamos converter esses valores em Z-scores e, em seguida, calcular a área sob a curva normal entre esses Z-scores.\n",
        "\n",
        "z27 = (27-25)/(4/math.sqrt(32))\n",
        "z26 = (26-25)/(4/math.sqrt(32))\n",
        "print(z27, z26)"
      ]
    },
    {
      "cell_type": "code",
      "execution_count": 14,
      "metadata": {
        "colab": {
          "base_uri": "https://localhost:8080/"
        },
        "id": "TiFNbIlkrpWU",
        "outputId": "42d49e07-4c9a-4903-a84e-e08b22a9bab7"
      },
      "outputs": [
        {
          "name": "stdout",
          "output_type": "stream",
          "text": [
            "0.9976611325094764 0.9213503964748575\n"
          ]
        }
      ],
      "source": [
        "# determinando a probabilidade acumulada para cada z-score calculado\n",
        "P27 = norm.cdf(z27)\n",
        "P26 = norm.cdf(z26)\n",
        "\n",
        "print(P27, P26)"
      ]
    },
    {
      "cell_type": "code",
      "execution_count": 15,
      "metadata": {
        "colab": {
          "base_uri": "https://localhost:8080/"
        },
        "id": "caXMprNisAyT",
        "outputId": "23bfb759-fccb-49b3-8b99-1d43d48aeb31"
      },
      "outputs": [
        {
          "data": {
            "text/plain": [
              "np.float64(0.07631073603461891)"
            ]
          },
          "execution_count": 15,
          "metadata": {},
          "output_type": "execute_result"
        }
      ],
      "source": [
        "# A probabilidade de selecionarmos 32 mulheres aleatoriamente e elas terem uma média de idade entre 26 e 27 anos é dada pela diferença entre as probabilidades acumuladas:\n",
        "\n",
        "P27-P26"
      ]
    },
    {
      "cell_type": "markdown",
      "metadata": {
        "id": "cN5X4RX2scyi"
      },
      "source": [
        "# Transformação"
      ]
    },
    {
      "cell_type": "code",
      "execution_count": 16,
      "metadata": {
        "colab": {
          "base_uri": "https://localhost:8080/",
          "height": 424
        },
        "id": "zLImqVfosC-M",
        "outputId": "d75aea80-0655-42c7-803c-d8376cb49d67"
      },
      "outputs": [
        {
          "data": {
            "text/html": [
              "<div>\n",
              "<style scoped>\n",
              "    .dataframe tbody tr th:only-of-type {\n",
              "        vertical-align: middle;\n",
              "    }\n",
              "\n",
              "    .dataframe tbody tr th {\n",
              "        vertical-align: top;\n",
              "    }\n",
              "\n",
              "    .dataframe thead th {\n",
              "        text-align: right;\n",
              "    }\n",
              "</style>\n",
              "<table border=\"1\" class=\"dataframe\">\n",
              "  <thead>\n",
              "    <tr style=\"text-align: right;\">\n",
              "      <th></th>\n",
              "      <th>Unnamed: 0</th>\n",
              "      <th>SalePrice</th>\n",
              "      <th>OverallQual</th>\n",
              "      <th>OverallCond</th>\n",
              "      <th>BedroomAbvGr</th>\n",
              "      <th>TotRmsAbvGrd</th>\n",
              "      <th>GrLivArea</th>\n",
              "      <th>TotalBsmtSF</th>\n",
              "      <th>YearBuilt</th>\n",
              "      <th>MSZoning</th>\n",
              "      <th>Utilities</th>\n",
              "      <th>BldgType</th>\n",
              "    </tr>\n",
              "  </thead>\n",
              "  <tbody>\n",
              "    <tr>\n",
              "      <th>0</th>\n",
              "      <td>0</td>\n",
              "      <td>208500</td>\n",
              "      <td>7</td>\n",
              "      <td>5</td>\n",
              "      <td>3</td>\n",
              "      <td>8</td>\n",
              "      <td>1710</td>\n",
              "      <td>856</td>\n",
              "      <td>2003</td>\n",
              "      <td>RL</td>\n",
              "      <td>AllPub</td>\n",
              "      <td>1Fam</td>\n",
              "    </tr>\n",
              "    <tr>\n",
              "      <th>1</th>\n",
              "      <td>1</td>\n",
              "      <td>181500</td>\n",
              "      <td>6</td>\n",
              "      <td>8</td>\n",
              "      <td>3</td>\n",
              "      <td>6</td>\n",
              "      <td>1262</td>\n",
              "      <td>1262</td>\n",
              "      <td>1976</td>\n",
              "      <td>RL</td>\n",
              "      <td>AllPub</td>\n",
              "      <td>1Fam</td>\n",
              "    </tr>\n",
              "    <tr>\n",
              "      <th>2</th>\n",
              "      <td>2</td>\n",
              "      <td>223500</td>\n",
              "      <td>7</td>\n",
              "      <td>5</td>\n",
              "      <td>3</td>\n",
              "      <td>6</td>\n",
              "      <td>1786</td>\n",
              "      <td>920</td>\n",
              "      <td>2001</td>\n",
              "      <td>RL</td>\n",
              "      <td>AllPub</td>\n",
              "      <td>1Fam</td>\n",
              "    </tr>\n",
              "    <tr>\n",
              "      <th>3</th>\n",
              "      <td>3</td>\n",
              "      <td>140000</td>\n",
              "      <td>7</td>\n",
              "      <td>5</td>\n",
              "      <td>3</td>\n",
              "      <td>7</td>\n",
              "      <td>1717</td>\n",
              "      <td>756</td>\n",
              "      <td>1915</td>\n",
              "      <td>RL</td>\n",
              "      <td>AllPub</td>\n",
              "      <td>1Fam</td>\n",
              "    </tr>\n",
              "    <tr>\n",
              "      <th>4</th>\n",
              "      <td>4</td>\n",
              "      <td>250000</td>\n",
              "      <td>8</td>\n",
              "      <td>5</td>\n",
              "      <td>4</td>\n",
              "      <td>9</td>\n",
              "      <td>2198</td>\n",
              "      <td>1145</td>\n",
              "      <td>2000</td>\n",
              "      <td>RL</td>\n",
              "      <td>AllPub</td>\n",
              "      <td>1Fam</td>\n",
              "    </tr>\n",
              "    <tr>\n",
              "      <th>...</th>\n",
              "      <td>...</td>\n",
              "      <td>...</td>\n",
              "      <td>...</td>\n",
              "      <td>...</td>\n",
              "      <td>...</td>\n",
              "      <td>...</td>\n",
              "      <td>...</td>\n",
              "      <td>...</td>\n",
              "      <td>...</td>\n",
              "      <td>...</td>\n",
              "      <td>...</td>\n",
              "      <td>...</td>\n",
              "    </tr>\n",
              "    <tr>\n",
              "      <th>1455</th>\n",
              "      <td>1455</td>\n",
              "      <td>175000</td>\n",
              "      <td>6</td>\n",
              "      <td>5</td>\n",
              "      <td>3</td>\n",
              "      <td>7</td>\n",
              "      <td>1647</td>\n",
              "      <td>953</td>\n",
              "      <td>1999</td>\n",
              "      <td>RL</td>\n",
              "      <td>AllPub</td>\n",
              "      <td>1Fam</td>\n",
              "    </tr>\n",
              "    <tr>\n",
              "      <th>1456</th>\n",
              "      <td>1456</td>\n",
              "      <td>210000</td>\n",
              "      <td>6</td>\n",
              "      <td>6</td>\n",
              "      <td>3</td>\n",
              "      <td>7</td>\n",
              "      <td>2073</td>\n",
              "      <td>1542</td>\n",
              "      <td>1978</td>\n",
              "      <td>RL</td>\n",
              "      <td>AllPub</td>\n",
              "      <td>1Fam</td>\n",
              "    </tr>\n",
              "    <tr>\n",
              "      <th>1457</th>\n",
              "      <td>1457</td>\n",
              "      <td>266500</td>\n",
              "      <td>7</td>\n",
              "      <td>9</td>\n",
              "      <td>4</td>\n",
              "      <td>9</td>\n",
              "      <td>2340</td>\n",
              "      <td>1152</td>\n",
              "      <td>1941</td>\n",
              "      <td>RL</td>\n",
              "      <td>AllPub</td>\n",
              "      <td>1Fam</td>\n",
              "    </tr>\n",
              "    <tr>\n",
              "      <th>1458</th>\n",
              "      <td>1458</td>\n",
              "      <td>142125</td>\n",
              "      <td>5</td>\n",
              "      <td>6</td>\n",
              "      <td>2</td>\n",
              "      <td>5</td>\n",
              "      <td>1078</td>\n",
              "      <td>1078</td>\n",
              "      <td>1950</td>\n",
              "      <td>RL</td>\n",
              "      <td>AllPub</td>\n",
              "      <td>1Fam</td>\n",
              "    </tr>\n",
              "    <tr>\n",
              "      <th>1459</th>\n",
              "      <td>1459</td>\n",
              "      <td>147500</td>\n",
              "      <td>5</td>\n",
              "      <td>6</td>\n",
              "      <td>3</td>\n",
              "      <td>6</td>\n",
              "      <td>1256</td>\n",
              "      <td>1256</td>\n",
              "      <td>1965</td>\n",
              "      <td>RL</td>\n",
              "      <td>AllPub</td>\n",
              "      <td>1Fam</td>\n",
              "    </tr>\n",
              "  </tbody>\n",
              "</table>\n",
              "<p>1460 rows × 12 columns</p>\n",
              "</div>"
            ],
            "text/plain": [
              "      Unnamed: 0  SalePrice  OverallQual  OverallCond  BedroomAbvGr  \\\n",
              "0              0     208500            7            5             3   \n",
              "1              1     181500            6            8             3   \n",
              "2              2     223500            7            5             3   \n",
              "3              3     140000            7            5             3   \n",
              "4              4     250000            8            5             4   \n",
              "...          ...        ...          ...          ...           ...   \n",
              "1455        1455     175000            6            5             3   \n",
              "1456        1456     210000            6            6             3   \n",
              "1457        1457     266500            7            9             4   \n",
              "1458        1458     142125            5            6             2   \n",
              "1459        1459     147500            5            6             3   \n",
              "\n",
              "      TotRmsAbvGrd  GrLivArea  TotalBsmtSF  YearBuilt MSZoning Utilities  \\\n",
              "0                8       1710          856       2003       RL    AllPub   \n",
              "1                6       1262         1262       1976       RL    AllPub   \n",
              "2                6       1786          920       2001       RL    AllPub   \n",
              "3                7       1717          756       1915       RL    AllPub   \n",
              "4                9       2198         1145       2000       RL    AllPub   \n",
              "...            ...        ...          ...        ...      ...       ...   \n",
              "1455             7       1647          953       1999       RL    AllPub   \n",
              "1456             7       2073         1542       1978       RL    AllPub   \n",
              "1457             9       2340         1152       1941       RL    AllPub   \n",
              "1458             5       1078         1078       1950       RL    AllPub   \n",
              "1459             6       1256         1256       1965       RL    AllPub   \n",
              "\n",
              "     BldgType  \n",
              "0        1Fam  \n",
              "1        1Fam  \n",
              "2        1Fam  \n",
              "3        1Fam  \n",
              "4        1Fam  \n",
              "...       ...  \n",
              "1455     1Fam  \n",
              "1456     1Fam  \n",
              "1457     1Fam  \n",
              "1458     1Fam  \n",
              "1459     1Fam  \n",
              "\n",
              "[1460 rows x 12 columns]"
            ]
          },
          "execution_count": 16,
          "metadata": {},
          "output_type": "execute_result"
        }
      ],
      "source": [
        "#lendo csv\n",
        "df = pd.read_csv(\"../data/house_price.csv\")\n",
        "df"
      ]
    },
    {
      "cell_type": "code",
      "execution_count": 17,
      "metadata": {
        "colab": {
          "base_uri": "https://localhost:8080/",
          "height": 424
        },
        "id": "jsPc3MGKsnXv",
        "outputId": "ffdfff52-515b-4788-9971-0c7eba76f0dd"
      },
      "outputs": [
        {
          "data": {
            "text/html": [
              "<div>\n",
              "<style scoped>\n",
              "    .dataframe tbody tr th:only-of-type {\n",
              "        vertical-align: middle;\n",
              "    }\n",
              "\n",
              "    .dataframe tbody tr th {\n",
              "        vertical-align: top;\n",
              "    }\n",
              "\n",
              "    .dataframe thead th {\n",
              "        text-align: right;\n",
              "    }\n",
              "</style>\n",
              "<table border=\"1\" class=\"dataframe\">\n",
              "  <thead>\n",
              "    <tr style=\"text-align: right;\">\n",
              "      <th></th>\n",
              "      <th>SalePrice</th>\n",
              "    </tr>\n",
              "  </thead>\n",
              "  <tbody>\n",
              "    <tr>\n",
              "      <th>0</th>\n",
              "      <td>208500</td>\n",
              "    </tr>\n",
              "    <tr>\n",
              "      <th>1</th>\n",
              "      <td>181500</td>\n",
              "    </tr>\n",
              "    <tr>\n",
              "      <th>2</th>\n",
              "      <td>223500</td>\n",
              "    </tr>\n",
              "    <tr>\n",
              "      <th>3</th>\n",
              "      <td>140000</td>\n",
              "    </tr>\n",
              "    <tr>\n",
              "      <th>4</th>\n",
              "      <td>250000</td>\n",
              "    </tr>\n",
              "    <tr>\n",
              "      <th>...</th>\n",
              "      <td>...</td>\n",
              "    </tr>\n",
              "    <tr>\n",
              "      <th>1455</th>\n",
              "      <td>175000</td>\n",
              "    </tr>\n",
              "    <tr>\n",
              "      <th>1456</th>\n",
              "      <td>210000</td>\n",
              "    </tr>\n",
              "    <tr>\n",
              "      <th>1457</th>\n",
              "      <td>266500</td>\n",
              "    </tr>\n",
              "    <tr>\n",
              "      <th>1458</th>\n",
              "      <td>142125</td>\n",
              "    </tr>\n",
              "    <tr>\n",
              "      <th>1459</th>\n",
              "      <td>147500</td>\n",
              "    </tr>\n",
              "  </tbody>\n",
              "</table>\n",
              "<p>1460 rows × 1 columns</p>\n",
              "</div>"
            ],
            "text/plain": [
              "      SalePrice\n",
              "0        208500\n",
              "1        181500\n",
              "2        223500\n",
              "3        140000\n",
              "4        250000\n",
              "...         ...\n",
              "1455     175000\n",
              "1456     210000\n",
              "1457     266500\n",
              "1458     142125\n",
              "1459     147500\n",
              "\n",
              "[1460 rows x 1 columns]"
            ]
          },
          "execution_count": 17,
          "metadata": {},
          "output_type": "execute_result"
        }
      ],
      "source": [
        "#olhando a coluna saleprice\n",
        "df[[\"SalePrice\"]]"
      ]
    },
    {
      "cell_type": "code",
      "execution_count": 18,
      "metadata": {
        "colab": {
          "base_uri": "https://localhost:8080/",
          "height": 466
        },
        "id": "3-zbuJw7sp6s",
        "outputId": "184a0eb9-2beb-40bb-8b1c-760d8c0f6ca5"
      },
      "outputs": [
        {
          "data": {
            "text/plain": [
              "<Axes: xlabel='SalePrice', ylabel='Count'>"
            ]
          },
          "execution_count": 18,
          "metadata": {},
          "output_type": "execute_result"
        },
        {
          "data": {
            "image/png": "[encoded data removed]",
            "text/plain": [
              "<Figure size 640x480 with 1 Axes>"
            ]
          },
          "metadata": {},
          "output_type": "display_data"
        }
      ],
      "source": [
        "#plotando histogram com seaborn\n",
        "sns.histplot(df[\"SalePrice\"])"
      ]
    },
    {
      "cell_type": "code",
      "execution_count": 19,
      "metadata": {
        "colab": {
          "base_uri": "https://localhost:8080/",
          "height": 447
        },
        "id": "WS6f_gVrs0hK",
        "outputId": "b5fbb3f9-4237-4a0b-9714-de1ff2810e6d"
      },
      "outputs": [
        {
          "data": {
            "text/plain": [
              "<Axes: >"
            ]
          },
          "execution_count": 19,
          "metadata": {},
          "output_type": "execute_result"
        },
        {
          "data": {
            "image/png": "[encoded data removed]",
            "text/plain": [
              "<Figure size 640x480 with 1 Axes>"
            ]
          },
          "metadata": {},
          "output_type": "display_data"
        }
      ],
      "source": [
        "#plotando histogram nativo de python\n",
        "df[\"SalePrice\"].hist(bins = 20)"
      ]
    },
    {
      "cell_type": "markdown",
      "metadata": {
        "id": "d6MKws4SuoNI"
      },
      "source": [
        "## Log"
      ]
    },
    {
      "cell_type": "code",
      "execution_count": 20,
      "metadata": {
        "colab": {
          "base_uri": "https://localhost:8080/",
          "height": 424
        },
        "id": "4JBxiPexs-sx",
        "outputId": "0e8f17d7-3c93-415d-a650-582141696c7f"
      },
      "outputs": [
        {
          "data": {
            "text/html": [
              "<div>\n",
              "<style scoped>\n",
              "    .dataframe tbody tr th:only-of-type {\n",
              "        vertical-align: middle;\n",
              "    }\n",
              "\n",
              "    .dataframe tbody tr th {\n",
              "        vertical-align: top;\n",
              "    }\n",
              "\n",
              "    .dataframe thead th {\n",
              "        text-align: right;\n",
              "    }\n",
              "</style>\n",
              "<table border=\"1\" class=\"dataframe\">\n",
              "  <thead>\n",
              "    <tr style=\"text-align: right;\">\n",
              "      <th></th>\n",
              "      <th>Unnamed: 0</th>\n",
              "      <th>SalePrice</th>\n",
              "      <th>OverallQual</th>\n",
              "      <th>OverallCond</th>\n",
              "      <th>BedroomAbvGr</th>\n",
              "      <th>TotRmsAbvGrd</th>\n",
              "      <th>GrLivArea</th>\n",
              "      <th>TotalBsmtSF</th>\n",
              "      <th>YearBuilt</th>\n",
              "      <th>MSZoning</th>\n",
              "      <th>Utilities</th>\n",
              "      <th>BldgType</th>\n",
              "      <th>log_SalePrice</th>\n",
              "    </tr>\n",
              "  </thead>\n",
              "  <tbody>\n",
              "    <tr>\n",
              "      <th>0</th>\n",
              "      <td>0</td>\n",
              "      <td>208500</td>\n",
              "      <td>7</td>\n",
              "      <td>5</td>\n",
              "      <td>3</td>\n",
              "      <td>8</td>\n",
              "      <td>1710</td>\n",
              "      <td>856</td>\n",
              "      <td>2003</td>\n",
              "      <td>RL</td>\n",
              "      <td>AllPub</td>\n",
              "      <td>1Fam</td>\n",
              "      <td>5.319106</td>\n",
              "    </tr>\n",
              "    <tr>\n",
              "      <th>1</th>\n",
              "      <td>1</td>\n",
              "      <td>181500</td>\n",
              "      <td>6</td>\n",
              "      <td>8</td>\n",
              "      <td>3</td>\n",
              "      <td>6</td>\n",
              "      <td>1262</td>\n",
              "      <td>1262</td>\n",
              "      <td>1976</td>\n",
              "      <td>RL</td>\n",
              "      <td>AllPub</td>\n",
              "      <td>1Fam</td>\n",
              "      <td>5.258877</td>\n",
              "    </tr>\n",
              "    <tr>\n",
              "      <th>2</th>\n",
              "      <td>2</td>\n",
              "      <td>223500</td>\n",
              "      <td>7</td>\n",
              "      <td>5</td>\n",
              "      <td>3</td>\n",
              "      <td>6</td>\n",
              "      <td>1786</td>\n",
              "      <td>920</td>\n",
              "      <td>2001</td>\n",
              "      <td>RL</td>\n",
              "      <td>AllPub</td>\n",
              "      <td>1Fam</td>\n",
              "      <td>5.349278</td>\n",
              "    </tr>\n",
              "    <tr>\n",
              "      <th>3</th>\n",
              "      <td>3</td>\n",
              "      <td>140000</td>\n",
              "      <td>7</td>\n",
              "      <td>5</td>\n",
              "      <td>3</td>\n",
              "      <td>7</td>\n",
              "      <td>1717</td>\n",
              "      <td>756</td>\n",
              "      <td>1915</td>\n",
              "      <td>RL</td>\n",
              "      <td>AllPub</td>\n",
              "      <td>1Fam</td>\n",
              "      <td>5.146128</td>\n",
              "    </tr>\n",
              "    <tr>\n",
              "      <th>4</th>\n",
              "      <td>4</td>\n",
              "      <td>250000</td>\n",
              "      <td>8</td>\n",
              "      <td>5</td>\n",
              "      <td>4</td>\n",
              "      <td>9</td>\n",
              "      <td>2198</td>\n",
              "      <td>1145</td>\n",
              "      <td>2000</td>\n",
              "      <td>RL</td>\n",
              "      <td>AllPub</td>\n",
              "      <td>1Fam</td>\n",
              "      <td>5.397940</td>\n",
              "    </tr>\n",
              "    <tr>\n",
              "      <th>...</th>\n",
              "      <td>...</td>\n",
              "      <td>...</td>\n",
              "      <td>...</td>\n",
              "      <td>...</td>\n",
              "      <td>...</td>\n",
              "      <td>...</td>\n",
              "      <td>...</td>\n",
              "      <td>...</td>\n",
              "      <td>...</td>\n",
              "      <td>...</td>\n",
              "      <td>...</td>\n",
              "      <td>...</td>\n",
              "      <td>...</td>\n",
              "    </tr>\n",
              "    <tr>\n",
              "      <th>1455</th>\n",
              "      <td>1455</td>\n",
              "      <td>175000</td>\n",
              "      <td>6</td>\n",
              "      <td>5</td>\n",
              "      <td>3</td>\n",
              "      <td>7</td>\n",
              "      <td>1647</td>\n",
              "      <td>953</td>\n",
              "      <td>1999</td>\n",
              "      <td>RL</td>\n",
              "      <td>AllPub</td>\n",
              "      <td>1Fam</td>\n",
              "      <td>5.243038</td>\n",
              "    </tr>\n",
              "    <tr>\n",
              "      <th>1456</th>\n",
              "      <td>1456</td>\n",
              "      <td>210000</td>\n",
              "      <td>6</td>\n",
              "      <td>6</td>\n",
              "      <td>3</td>\n",
              "      <td>7</td>\n",
              "      <td>2073</td>\n",
              "      <td>1542</td>\n",
              "      <td>1978</td>\n",
              "      <td>RL</td>\n",
              "      <td>AllPub</td>\n",
              "      <td>1Fam</td>\n",
              "      <td>5.322219</td>\n",
              "    </tr>\n",
              "    <tr>\n",
              "      <th>1457</th>\n",
              "      <td>1457</td>\n",
              "      <td>266500</td>\n",
              "      <td>7</td>\n",
              "      <td>9</td>\n",
              "      <td>4</td>\n",
              "      <td>9</td>\n",
              "      <td>2340</td>\n",
              "      <td>1152</td>\n",
              "      <td>1941</td>\n",
              "      <td>RL</td>\n",
              "      <td>AllPub</td>\n",
              "      <td>1Fam</td>\n",
              "      <td>5.425697</td>\n",
              "    </tr>\n",
              "    <tr>\n",
              "      <th>1458</th>\n",
              "      <td>1458</td>\n",
              "      <td>142125</td>\n",
              "      <td>5</td>\n",
              "      <td>6</td>\n",
              "      <td>2</td>\n",
              "      <td>5</td>\n",
              "      <td>1078</td>\n",
              "      <td>1078</td>\n",
              "      <td>1950</td>\n",
              "      <td>RL</td>\n",
              "      <td>AllPub</td>\n",
              "      <td>1Fam</td>\n",
              "      <td>5.152670</td>\n",
              "    </tr>\n",
              "    <tr>\n",
              "      <th>1459</th>\n",
              "      <td>1459</td>\n",
              "      <td>147500</td>\n",
              "      <td>5</td>\n",
              "      <td>6</td>\n",
              "      <td>3</td>\n",
              "      <td>6</td>\n",
              "      <td>1256</td>\n",
              "      <td>1256</td>\n",
              "      <td>1965</td>\n",
              "      <td>RL</td>\n",
              "      <td>AllPub</td>\n",
              "      <td>1Fam</td>\n",
              "      <td>5.168792</td>\n",
              "    </tr>\n",
              "  </tbody>\n",
              "</table>\n",
              "<p>1460 rows × 13 columns</p>\n",
              "</div>"
            ],
            "text/plain": [
              "      Unnamed: 0  SalePrice  OverallQual  OverallCond  BedroomAbvGr  \\\n",
              "0              0     208500            7            5             3   \n",
              "1              1     181500            6            8             3   \n",
              "2              2     223500            7            5             3   \n",
              "3              3     140000            7            5             3   \n",
              "4              4     250000            8            5             4   \n",
              "...          ...        ...          ...          ...           ...   \n",
              "1455        1455     175000            6            5             3   \n",
              "1456        1456     210000            6            6             3   \n",
              "1457        1457     266500            7            9             4   \n",
              "1458        1458     142125            5            6             2   \n",
              "1459        1459     147500            5            6             3   \n",
              "\n",
              "      TotRmsAbvGrd  GrLivArea  TotalBsmtSF  YearBuilt MSZoning Utilities  \\\n",
              "0                8       1710          856       2003       RL    AllPub   \n",
              "1                6       1262         1262       1976       RL    AllPub   \n",
              "2                6       1786          920       2001       RL    AllPub   \n",
              "3                7       1717          756       1915       RL    AllPub   \n",
              "4                9       2198         1145       2000       RL    AllPub   \n",
              "...            ...        ...          ...        ...      ...       ...   \n",
              "1455             7       1647          953       1999       RL    AllPub   \n",
              "1456             7       2073         1542       1978       RL    AllPub   \n",
              "1457             9       2340         1152       1941       RL    AllPub   \n",
              "1458             5       1078         1078       1950       RL    AllPub   \n",
              "1459             6       1256         1256       1965       RL    AllPub   \n",
              "\n",
              "     BldgType  log_SalePrice  \n",
              "0        1Fam       5.319106  \n",
              "1        1Fam       5.258877  \n",
              "2        1Fam       5.349278  \n",
              "3        1Fam       5.146128  \n",
              "4        1Fam       5.397940  \n",
              "...       ...            ...  \n",
              "1455     1Fam       5.243038  \n",
              "1456     1Fam       5.322219  \n",
              "1457     1Fam       5.425697  \n",
              "1458     1Fam       5.152670  \n",
              "1459     1Fam       5.168792  \n",
              "\n",
              "[1460 rows x 13 columns]"
            ]
          },
          "execution_count": 20,
          "metadata": {},
          "output_type": "execute_result"
        }
      ],
      "source": [
        "# criamos uma nova coluna para armazenar a transformação dos valores de \"SalePrice\" em seus equivalentes logarítmicos na base 10.\n",
        "df[\"log_SalePrice\"] = np.log10(df['SalePrice'])\n",
        "df"
      ]
    },
    {
      "cell_type": "code",
      "execution_count": 21,
      "metadata": {
        "colab": {
          "base_uri": "https://localhost:8080/",
          "height": 467
        },
        "id": "EwNX_1qYtZEa",
        "outputId": "c3c9bc67-4158-4397-cbe1-707cd4165a91"
      },
      "outputs": [
        {
          "data": {
            "text/plain": [
              "<Axes: xlabel='log_SalePrice', ylabel='Count'>"
            ]
          },
          "execution_count": 21,
          "metadata": {},
          "output_type": "execute_result"
        },
        {
          "data": {
            "image/png": "[encoded data removed]",
            "text/plain": [
              "<Figure size 640x480 with 1 Axes>"
            ]
          },
          "metadata": {},
          "output_type": "display_data"
        }
      ],
      "source": [
        "#plotando histogram da nova coluna com seaborn\n",
        "sns.histplot(df[\"log_SalePrice\"])"
      ]
    },
    {
      "cell_type": "code",
      "execution_count": 22,
      "metadata": {
        "colab": {
          "base_uri": "https://localhost:8080/"
        },
        "id": "-B91t6qSuShQ",
        "outputId": "152b48eb-1af3-4745-dd0e-441279806181"
      },
      "outputs": [
        {
          "data": {
            "text/plain": [
              "np.float64(0.12121036730137275)"
            ]
          },
          "execution_count": 22,
          "metadata": {},
          "output_type": "execute_result"
        }
      ],
      "source": [
        "# queremos agora verificar o valor do skewness da nova coluna, veja que ele fica bem proximo de 0, o que significa que a curva possui baixa assimetria.\n",
        "\n",
        "from scipy.stats import skew\n",
        "\n",
        "skew(df[\"log_SalePrice\"])"
      ]
    },
    {
      "cell_type": "markdown",
      "metadata": {
        "id": "qe4OnrjVurdq"
      },
      "source": [
        "## Box Cox"
      ]
    },
    {
      "cell_type": "markdown",
      "metadata": {
        "id": "FtfK1xweuFOx"
      },
      "source": [
        "A transformação de Box-Cox é uma técnica estatística que é usada para estabilizar a variância e tornar os dados mais próximos de uma curva normal."
      ]
    },
    {
      "cell_type": "code",
      "execution_count": 23,
      "metadata": {
        "colab": {
          "base_uri": "https://localhost:8080/",
          "height": 424
        },
        "id": "4RAigg4kukyR",
        "outputId": "7d8c6907-6122-4f3f-c599-a74acfec9efb"
      },
      "outputs": [
        {
          "data": {
            "text/html": [
              "<div>\n",
              "<style scoped>\n",
              "    .dataframe tbody tr th:only-of-type {\n",
              "        vertical-align: middle;\n",
              "    }\n",
              "\n",
              "    .dataframe tbody tr th {\n",
              "        vertical-align: top;\n",
              "    }\n",
              "\n",
              "    .dataframe thead th {\n",
              "        text-align: right;\n",
              "    }\n",
              "</style>\n",
              "<table border=\"1\" class=\"dataframe\">\n",
              "  <thead>\n",
              "    <tr style=\"text-align: right;\">\n",
              "      <th></th>\n",
              "      <th>Unnamed: 0</th>\n",
              "      <th>SalePrice</th>\n",
              "      <th>OverallQual</th>\n",
              "      <th>OverallCond</th>\n",
              "      <th>BedroomAbvGr</th>\n",
              "      <th>TotRmsAbvGrd</th>\n",
              "      <th>GrLivArea</th>\n",
              "      <th>TotalBsmtSF</th>\n",
              "      <th>YearBuilt</th>\n",
              "      <th>MSZoning</th>\n",
              "      <th>Utilities</th>\n",
              "      <th>BldgType</th>\n",
              "      <th>log_SalePrice</th>\n",
              "      <th>BX_SalePrice</th>\n",
              "    </tr>\n",
              "  </thead>\n",
              "  <tbody>\n",
              "    <tr>\n",
              "      <th>0</th>\n",
              "      <td>0</td>\n",
              "      <td>208500</td>\n",
              "      <td>7</td>\n",
              "      <td>5</td>\n",
              "      <td>3</td>\n",
              "      <td>8</td>\n",
              "      <td>1710</td>\n",
              "      <td>856</td>\n",
              "      <td>2003</td>\n",
              "      <td>RL</td>\n",
              "      <td>AllPub</td>\n",
              "      <td>1Fam</td>\n",
              "      <td>5.319106</td>\n",
              "      <td>24.033813</td>\n",
              "    </tr>\n",
              "    <tr>\n",
              "      <th>1</th>\n",
              "      <td>1</td>\n",
              "      <td>181500</td>\n",
              "      <td>6</td>\n",
              "      <td>8</td>\n",
              "      <td>3</td>\n",
              "      <td>6</td>\n",
              "      <td>1262</td>\n",
              "      <td>1262</td>\n",
              "      <td>1976</td>\n",
              "      <td>RL</td>\n",
              "      <td>AllPub</td>\n",
              "      <td>1Fam</td>\n",
              "      <td>5.258877</td>\n",
              "      <td>23.565078</td>\n",
              "    </tr>\n",
              "    <tr>\n",
              "      <th>2</th>\n",
              "      <td>2</td>\n",
              "      <td>223500</td>\n",
              "      <td>7</td>\n",
              "      <td>5</td>\n",
              "      <td>3</td>\n",
              "      <td>6</td>\n",
              "      <td>1786</td>\n",
              "      <td>920</td>\n",
              "      <td>2001</td>\n",
              "      <td>RL</td>\n",
              "      <td>AllPub</td>\n",
              "      <td>1Fam</td>\n",
              "      <td>5.349278</td>\n",
              "      <td>24.271077</td>\n",
              "    </tr>\n",
              "    <tr>\n",
              "      <th>3</th>\n",
              "      <td>3</td>\n",
              "      <td>140000</td>\n",
              "      <td>7</td>\n",
              "      <td>5</td>\n",
              "      <td>3</td>\n",
              "      <td>7</td>\n",
              "      <td>1717</td>\n",
              "      <td>756</td>\n",
              "      <td>1915</td>\n",
              "      <td>RL</td>\n",
              "      <td>AllPub</td>\n",
              "      <td>1Fam</td>\n",
              "      <td>5.146128</td>\n",
              "      <td>22.704898</td>\n",
              "    </tr>\n",
              "    <tr>\n",
              "      <th>4</th>\n",
              "      <td>4</td>\n",
              "      <td>250000</td>\n",
              "      <td>8</td>\n",
              "      <td>5</td>\n",
              "      <td>4</td>\n",
              "      <td>9</td>\n",
              "      <td>2198</td>\n",
              "      <td>1145</td>\n",
              "      <td>2000</td>\n",
              "      <td>RL</td>\n",
              "      <td>AllPub</td>\n",
              "      <td>1Fam</td>\n",
              "      <td>5.397940</td>\n",
              "      <td>24.657242</td>\n",
              "    </tr>\n",
              "    <tr>\n",
              "      <th>...</th>\n",
              "      <td>...</td>\n",
              "      <td>...</td>\n",
              "      <td>...</td>\n",
              "      <td>...</td>\n",
              "      <td>...</td>\n",
              "      <td>...</td>\n",
              "      <td>...</td>\n",
              "      <td>...</td>\n",
              "      <td>...</td>\n",
              "      <td>...</td>\n",
              "      <td>...</td>\n",
              "      <td>...</td>\n",
              "      <td>...</td>\n",
              "      <td>...</td>\n",
              "    </tr>\n",
              "    <tr>\n",
              "      <th>1455</th>\n",
              "      <td>1455</td>\n",
              "      <td>175000</td>\n",
              "      <td>6</td>\n",
              "      <td>5</td>\n",
              "      <td>3</td>\n",
              "      <td>7</td>\n",
              "      <td>1647</td>\n",
              "      <td>953</td>\n",
              "      <td>1999</td>\n",
              "      <td>RL</td>\n",
              "      <td>AllPub</td>\n",
              "      <td>1Fam</td>\n",
              "      <td>5.243038</td>\n",
              "      <td>23.442890</td>\n",
              "    </tr>\n",
              "    <tr>\n",
              "      <th>1456</th>\n",
              "      <td>1456</td>\n",
              "      <td>210000</td>\n",
              "      <td>6</td>\n",
              "      <td>6</td>\n",
              "      <td>3</td>\n",
              "      <td>7</td>\n",
              "      <td>2073</td>\n",
              "      <td>1542</td>\n",
              "      <td>1978</td>\n",
              "      <td>RL</td>\n",
              "      <td>AllPub</td>\n",
              "      <td>1Fam</td>\n",
              "      <td>5.322219</td>\n",
              "      <td>24.058219</td>\n",
              "    </tr>\n",
              "    <tr>\n",
              "      <th>1457</th>\n",
              "      <td>1457</td>\n",
              "      <td>266500</td>\n",
              "      <td>7</td>\n",
              "      <td>9</td>\n",
              "      <td>4</td>\n",
              "      <td>9</td>\n",
              "      <td>2340</td>\n",
              "      <td>1152</td>\n",
              "      <td>1941</td>\n",
              "      <td>RL</td>\n",
              "      <td>AllPub</td>\n",
              "      <td>1Fam</td>\n",
              "      <td>5.425697</td>\n",
              "      <td>24.879457</td>\n",
              "    </tr>\n",
              "    <tr>\n",
              "      <th>1458</th>\n",
              "      <td>1458</td>\n",
              "      <td>142125</td>\n",
              "      <td>5</td>\n",
              "      <td>6</td>\n",
              "      <td>2</td>\n",
              "      <td>5</td>\n",
              "      <td>1078</td>\n",
              "      <td>1078</td>\n",
              "      <td>1950</td>\n",
              "      <td>RL</td>\n",
              "      <td>AllPub</td>\n",
              "      <td>1Fam</td>\n",
              "      <td>5.152670</td>\n",
              "      <td>22.754204</td>\n",
              "    </tr>\n",
              "    <tr>\n",
              "      <th>1459</th>\n",
              "      <td>1459</td>\n",
              "      <td>147500</td>\n",
              "      <td>5</td>\n",
              "      <td>6</td>\n",
              "      <td>3</td>\n",
              "      <td>6</td>\n",
              "      <td>1256</td>\n",
              "      <td>1256</td>\n",
              "      <td>1965</td>\n",
              "      <td>RL</td>\n",
              "      <td>AllPub</td>\n",
              "      <td>1Fam</td>\n",
              "      <td>5.168792</td>\n",
              "      <td>22.876017</td>\n",
              "    </tr>\n",
              "  </tbody>\n",
              "</table>\n",
              "<p>1460 rows × 14 columns</p>\n",
              "</div>"
            ],
            "text/plain": [
              "      Unnamed: 0  SalePrice  OverallQual  OverallCond  BedroomAbvGr  \\\n",
              "0              0     208500            7            5             3   \n",
              "1              1     181500            6            8             3   \n",
              "2              2     223500            7            5             3   \n",
              "3              3     140000            7            5             3   \n",
              "4              4     250000            8            5             4   \n",
              "...          ...        ...          ...          ...           ...   \n",
              "1455        1455     175000            6            5             3   \n",
              "1456        1456     210000            6            6             3   \n",
              "1457        1457     266500            7            9             4   \n",
              "1458        1458     142125            5            6             2   \n",
              "1459        1459     147500            5            6             3   \n",
              "\n",
              "      TotRmsAbvGrd  GrLivArea  TotalBsmtSF  YearBuilt MSZoning Utilities  \\\n",
              "0                8       1710          856       2003       RL    AllPub   \n",
              "1                6       1262         1262       1976       RL    AllPub   \n",
              "2                6       1786          920       2001       RL    AllPub   \n",
              "3                7       1717          756       1915       RL    AllPub   \n",
              "4                9       2198         1145       2000       RL    AllPub   \n",
              "...            ...        ...          ...        ...      ...       ...   \n",
              "1455             7       1647          953       1999       RL    AllPub   \n",
              "1456             7       2073         1542       1978       RL    AllPub   \n",
              "1457             9       2340         1152       1941       RL    AllPub   \n",
              "1458             5       1078         1078       1950       RL    AllPub   \n",
              "1459             6       1256         1256       1965       RL    AllPub   \n",
              "\n",
              "     BldgType  log_SalePrice  BX_SalePrice  \n",
              "0        1Fam       5.319106     24.033813  \n",
              "1        1Fam       5.258877     23.565078  \n",
              "2        1Fam       5.349278     24.271077  \n",
              "3        1Fam       5.146128     22.704898  \n",
              "4        1Fam       5.397940     24.657242  \n",
              "...       ...            ...           ...  \n",
              "1455     1Fam       5.243038     23.442890  \n",
              "1456     1Fam       5.322219     24.058219  \n",
              "1457     1Fam       5.425697     24.879457  \n",
              "1458     1Fam       5.152670     22.754204  \n",
              "1459     1Fam       5.168792     22.876017  \n",
              "\n",
              "[1460 rows x 14 columns]"
            ]
          },
          "execution_count": 23,
          "metadata": {},
          "output_type": "execute_result"
        }
      ],
      "source": [
        "# calculando uma nova coluna para armazenar os valores transformados\n",
        "lmbda = 0.1\n",
        "\n",
        "df[\"BX_SalePrice\"] = (df[\"SalePrice\"]**lmbda - 1)/lmbda\n",
        "df"
      ]
    },
    {
      "cell_type": "code",
      "execution_count": 24,
      "metadata": {
        "colab": {
          "base_uri": "https://localhost:8080/",
          "height": 467
        },
        "id": "rV-QkgIzu9pM",
        "outputId": "a7e81f32-9359-4ce5-8d75-3986ac5b528b"
      },
      "outputs": [
        {
          "data": {
            "text/plain": [
              "<Axes: xlabel='BX_SalePrice', ylabel='Count'>"
            ]
          },
          "execution_count": 24,
          "metadata": {},
          "output_type": "execute_result"
        },
        {
          "data": {
            "image/png": "[encoded data removed]",
            "text/plain": [
              "<Figure size 640x480 with 1 Axes>"
            ]
          },
          "metadata": {},
          "output_type": "display_data"
        }
      ],
      "source": [
        "# vizualizando o histograma da coluna com valores trasnformados\n",
        "\n",
        "sns.histplot(df[\"BX_SalePrice\"])"
      ]
    },
    {
      "cell_type": "code",
      "execution_count": 25,
      "metadata": {
        "colab": {
          "base_uri": "https://localhost:8080/"
        },
        "id": "gW_GdCEfv9AR",
        "outputId": "19362417-425a-42bb-84c8-14ec80542d1e"
      },
      "outputs": [
        {
          "data": {
            "text/plain": [
              "np.float64(0.28641751364562007)"
            ]
          },
          "execution_count": 25,
          "metadata": {},
          "output_type": "execute_result"
        }
      ],
      "source": [
        "# determinando o valor do skewness para a nova coluna\n",
        "skew(df[\"BX_SalePrice\"])"
      ]
    },
    {
      "cell_type": "markdown",
      "metadata": {
        "id": "6-Ep-8SdutU7"
      },
      "source": [
        "Observe e compare o valor dos dois skewness. na transformação logaritmica, o valor obtido foi menor do que ao aplicar o Box cox"
      ]
    },
    {
      "cell_type": "markdown",
      "metadata": {
        "id": "q0uiewdFMcxn"
      },
      "source": [
        "# Sumário\n",
        "\n",
        "#### **Probabilidade:**\n",
        "\n",
        "1. **Cálculo z-test:**\n",
        "```python\n",
        "   from statsmodels.stats.weightstats import ztest as ztest\n",
        "   #perform one sample z-test\n",
        "   ztest(coluna_com_seus_dados, value = valor_a_comparar)\n",
        "```\n",
        "\n",
        "2. **Cálculo probabilidade binomial:**\n",
        "- número de tentativas: n\n",
        "- número de sucessos: k\n",
        "- probabilidade de sucesso: p**\n",
        "\n",
        "   ```python\n",
        "   binom.cdf(k, n, p)\n",
        "   ```\n",
        "\n",
        "3. **Distribuição Normal:**\n",
        "- Z-score:\n",
        "\n",
        "   ```python\n",
        "   z = (dado - média)/ desvio_padrão\n",
        "   ```\n",
        "- Probabilidade do Z-Score:\n",
        "\n",
        "  ```python\n",
        "  norm.cdf(Z)\n",
        "  ```\n",
        "\n",
        "\n",
        "#### **Transformações:**\n",
        "\n",
        "4. **Transformação Logarítmica:**\n",
        "  ```python\n",
        "  df[\"nome_da_coluna_transformada\"] = np.log10(df['nome_da_coluna_a_transformar'])\n",
        "  ```\n",
        "\n",
        "5. **Transformação Box-Cox:**\n",
        "\n",
        "  ```python\n",
        "  df[\"BX_SalePrice\"] = (df[\"SalePrice\"]**lmbda - 1)/lmbda\n",
        "  ```\n"
      ]
    },
    {
      "cell_type": "code",
      "execution_count": 46,
      "metadata": {
        "id": "D3HmYZtwQGFm"
      },
      "outputs": [],
      "source": []
    }
  ],
  "metadata": {
    "colab": {
      "provenance": []
    },
    "kernelspec": {
      "display_name": ".venv",
      "language": "python",
      "name": "python3"
    },
    "language_info": {
      "codemirror_mode": {
        "name": "ipython",
        "version": 3
      },
      "file_extension": ".py",
      "mimetype": "text/x-python",
      "name": "python",
      "nbconvert_exporter": "python",
      "pygments_lexer": "ipython3",
      "version": "3.10.11"
    }
  },
  "nbformat": 4,
  "nbformat_minor": 0
}
